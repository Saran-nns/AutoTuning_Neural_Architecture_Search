{
  "nbformat": 4,
  "nbformat_minor": 0,
  "metadata": {
    "colab": {
      "name": "incremental_learning1.ipynb",
      "provenance": [],
      "collapsed_sections": [],
      "toc_visible": true,
      "authorship_tag": "ABX9TyPXX9s8s1frBd/mHqhDD65e",
      "include_colab_link": true
    },
    "kernelspec": {
      "name": "python3",
      "display_name": "Python 3"
    },
    "accelerator": "GPU"
  },
  "cells": [
    {
      "cell_type": "markdown",
      "metadata": {
        "id": "view-in-github",
        "colab_type": "text"
      },
      "source": [
        "<a href=\"https://colab.research.google.com/github/Saran-nns/incremental_learning_tf2.0/blob/master/incremental_learning.ipynb\" target=\"_parent\"><img src=\"https://colab.research.google.com/assets/colab-badge.svg\" alt=\"Open In Colab\"/></a>"
      ]
    },
    {
      "cell_type": "markdown",
      "metadata": {
        "id": "XCCoqcf5uu3r",
        "colab_type": "text"
      },
      "source": [
        "### Data pipe line"
      ]
    },
    {
      "cell_type": "code",
      "metadata": {
        "id": "cmWw3lbkrOza",
        "colab_type": "code",
        "colab": {}
      },
      "source": [
        "import tensorflow as tf\n",
        "from tensorflow.keras import datasets, layers, models\n",
        "import tensorflow_datasets as tfds\n",
        "import matplotlib.pyplot as plt\n",
        "import numpy as np\n",
        "from tensorflow.keras.layers import Dense, Flatten, Conv2D, MaxPooling2D\n",
        "from tensorflow.keras import Model"
      ],
      "execution_count": 0,
      "outputs": []
    },
    {
      "cell_type": "markdown",
      "metadata": {
        "id": "ucEvdtOc4ZCS",
        "colab_type": "text"
      },
      "source": [
        "### Data"
      ]
    },
    {
      "cell_type": "code",
      "metadata": {
        "id": "Ooi3VS3u4a9A",
        "colab_type": "code",
        "outputId": "f420dbe4-061f-4a8b-beca-159cb00fe7f5",
        "colab": {
          "base_uri": "https://localhost:8080/",
          "height": 52
        }
      },
      "source": [
        "# Variable 'train_dataset' carries the shuffled dataset\n",
        "# Split the dataset into tuple((train_images,train_labels),(test_images, test_labels)) \n",
        "\n",
        "dataset = datasets.cifar10.load_data()\n",
        "# print('Shape of dataset',np.shape(dataset))\n",
        "filtered_training_data = []\n",
        "filtered_labels = []\n",
        "allowed_labels = [0,1,2,3,4,5,6,7]\n",
        "# print('Shape of training images',dataset[0][0].shape)\n",
        "\n",
        "for i, _ in enumerate(dataset[0][0]):\n",
        "  if dataset[0][1][i] in allowed_labels:\n",
        "    filtered_training_data.append(dataset[0][0][i]/np.float32(255))\n",
        "    filtered_labels.append(dataset[0][1][i])\n",
        "\n",
        "\"\"\"NOTE: One liner: dataset = train_data.filter(lambda x,y: tf.reduce_all(tf.not_equal(y, [8,9]))).batch(200)\"\"\"\n",
        "\n",
        "train_dataset = tf.data.Dataset.from_tensor_slices((filtered_training_data, filtered_labels))\n",
        "train_dataset.shuffle(40000)\n",
        "\n",
        "# Split into train and test\n",
        "trainind_dataset_size = int(len(list(train_dataset))*0.8)\n",
        "train_ds,test_ds = train_dataset.take(trainind_dataset_size), train_dataset.skip(trainind_dataset_size)"
      ],
      "execution_count": 0,
      "outputs": [
        {
          "output_type": "stream",
          "text": [
            "Downloading data from https://www.cs.toronto.edu/~kriz/cifar-10-python.tar.gz\n",
            "170500096/170498071 [==============================] - 2s 0us/step\n"
          ],
          "name": "stdout"
        }
      ]
    },
    {
      "cell_type": "code",
      "metadata": {
        "id": "VCF7FaWRW5zJ",
        "colab_type": "code",
        "colab": {}
      },
      "source": [
        "class FeatureExtractor(Model):\n",
        "  def __init__(self):\n",
        "    super(FeatureExtractor, self).__init__()\n",
        "    self.conv1 = Conv2D(32, 3, activation='relu')\n",
        "    self.maxpool = MaxPooling2D((2,2))\n",
        "    self.conv2 = Conv2D(64, 3, activation='relu')\n",
        "    self.conv3 = Conv2D(64,3,activation='relu')\n",
        "  def call(self, x):\n",
        "    x = self.conv1(x)\n",
        "    x = self.maxpool(x)\n",
        "    x = self.conv2(x)\n",
        "    x = self.maxpool(x)\n",
        "    x = self.conv3(x)\n",
        "    return x\n",
        "\n",
        "# Create an instance of the model\n",
        "feature_extractor = FeatureExtractor()\n"
      ],
      "execution_count": 0,
      "outputs": []
    },
    {
      "cell_type": "code",
      "metadata": {
        "id": "uMv_MKnRb3h2",
        "colab_type": "code",
        "colab": {}
      },
      "source": [
        "class Classifier(Model):\n",
        "  def __init__(self, n_classes):\n",
        "    super(Classifier, self).__init__()\n",
        "    self.flatten = Flatten()\n",
        "    self.d1 = Dense(64, activation='relu')\n",
        "    self.d2 = Dense(n_classes)\n",
        "\n",
        "  def call(self, x):\n",
        "    x = self.flatten(x)\n",
        "    x = self.d1(x)\n",
        "    return self.d2(x)\n",
        "\n",
        "# Create an instance of the model\n",
        "classifier = Classifier(n_classes=5)"
      ],
      "execution_count": 0,
      "outputs": []
    },
    {
      "cell_type": "code",
      "metadata": {
        "id": "ZFaskFWZcVjI",
        "colab_type": "code",
        "colab": {}
      },
      "source": [
        "class IncrementalLearning(Model):\n",
        "\n",
        "  def __init__(self, feature_extractor,classifier):\n",
        "    super(IncrementalLearning, self).__init__()\n",
        "    self.feature_extractor=feature_extractor\n",
        "    self.classifier = classifier\n",
        "\n",
        "  def call(self, x):\n",
        "    features = self.feature_extractor(x)\n",
        "    x = self.classifier(features)\n",
        "    return x\n",
        "model = IncrementalLearning(feature_extractor,classifier)"
      ],
      "execution_count": 0,
      "outputs": []
    },
    {
      "cell_type": "markdown",
      "metadata": {
        "id": "ZZJQ47ICkC0x",
        "colab_type": "text"
      },
      "source": [
        "### Train Using custom tap gradient loss functions "
      ]
    },
    {
      "cell_type": "code",
      "metadata": {
        "id": "_-XFZU6oc7Iw",
        "colab_type": "code",
        "colab": {}
      },
      "source": [
        "# Optimization criterion\n",
        "loss_object = tf.keras.losses.SparseCategoricalCrossentropy(from_logits=True)\n",
        "optimizer = tf.keras.optimizers.Adam()\n",
        "train_loss = tf.keras.metrics.Mean(name='train_loss')\n",
        "train_accuracy = tf.keras.metrics.SparseCategoricalAccuracy(name='train_accuracy')\n",
        "test_loss = tf.keras.metrics.Mean(name='test_loss')\n",
        "test_accuracy = tf.keras.metrics.SparseCategoricalAccuracy(name='test_accuracy')"
      ],
      "execution_count": 0,
      "outputs": []
    },
    {
      "cell_type": "markdown",
      "metadata": {
        "id": "Ua6rFTJMj6oW",
        "colab_type": "text"
      },
      "source": [
        "### With prebuild model compile and fit ops"
      ]
    },
    {
      "cell_type": "markdown",
      "metadata": {
        "id": "SD4KyhM-xNES",
        "colab_type": "text"
      },
      "source": [
        "##### Split the train and test datasets such that the model can be easily compiled by the predefined methods and can easily be compatibile with the mirroring. "
      ]
    },
    {
      "cell_type": "code",
      "metadata": {
        "id": "I1XulkADxfHO",
        "colab_type": "code",
        "outputId": "66ecc823-ac8e-450a-de95-e999cbd364e5",
        "colab": {
          "base_uri": "https://localhost:8080/",
          "height": 52
        }
      },
      "source": [
        "# Variable 'train_dataset' carries the shuffled dataset\n",
        "# Split the dataset into tuple((train_images,train_labels),(test_images, test_labels)) \n",
        "\n",
        "dataset = datasets.cifar10.load_data()\n",
        "print('Shape of dataset',np.shape(dataset))\n",
        "filtered_training_data = []\n",
        "filtered_labels = []\n",
        "allowed_labels = [0,1,2,3,4,5,6,7]\n",
        "print('Shape of training images',dataset[0][0].shape)\n",
        "\n",
        "for i, _ in enumerate(dataset[0][0]):\n",
        "  if dataset[0][1][i] in allowed_labels:\n",
        "    filtered_training_data.append(dataset[0][0][i]/np.float32(255))\n",
        "    filtered_labels.append(dataset[0][1][i])\n",
        "train_dataset = tf.data.Dataset.from_tensor_slices((filtered_training_data, filtered_labels))\n",
        "train_dataset.shuffle(40000)\n",
        "\n",
        "# Split into train and test\n",
        "trainind_dataset_size = int(len(list(train_dataset))*0.8)\n",
        "train_ds,test_ds = train_dataset.take(trainind_dataset_size), train_dataset.skip(trainind_dataset_size)"
      ],
      "execution_count": 0,
      "outputs": [
        {
          "output_type": "stream",
          "text": [
            "Shape of dataset (2, 2)\n",
            "Shape of training images (50000, 32, 32, 3)\n"
          ],
          "name": "stdout"
        }
      ]
    },
    {
      "cell_type": "code",
      "metadata": {
        "id": "SGtCNAWP1v0y",
        "colab_type": "code",
        "outputId": "8e092a02-2c9a-4dc6-af2f-e8159f89fd6f",
        "colab": {
          "base_uri": "https://localhost:8080/",
          "height": 34
        }
      },
      "source": [
        "train_images,train_labels= np.array(list(train_ds))[:,0],np.array(list(train_ds))[:,1]\n",
        "train_images,train_labels = tf.convert_to_tensor(train_images.tolist()), tf.convert_to_tensor(train_labels.tolist())\n",
        "\n",
        "test_images,test_labels = np.array(list(test_ds))[:,0],np.array(list(test_ds))[:,1]\n",
        "test_images,test_labels = tf.convert_to_tensor(test_images.tolist()),tf.convert_to_tensor(test_labels.tolist())\n",
        "print('Shape of training images after filtering labels',np.shape(train_images))"
      ],
      "execution_count": 0,
      "outputs": [
        {
          "output_type": "stream",
          "text": [
            "Shape of training images after filtering labels (32000, 32, 32, 3)\n"
          ],
          "name": "stdout"
        }
      ]
    },
    {
      "cell_type": "code",
      "metadata": {
        "id": "3ONKZKO6WDAm",
        "colab_type": "code",
        "colab": {}
      },
      "source": [
        "import os\n",
        "checkpoint_path = \"training_1/cp.ckpt\"\n",
        "checkpoint_dir = os.path.dirname(checkpoint_path)"
      ],
      "execution_count": 0,
      "outputs": []
    },
    {
      "cell_type": "code",
      "metadata": {
        "id": "u2zuQVYNjyPp",
        "colab_type": "code",
        "outputId": "b9012ad8-e83c-4928-937d-8acab167d877",
        "colab": {
          "base_uri": "https://localhost:8080/",
          "height": 738
        }
      },
      "source": [
        "strategy = tf.distribute.MirroredStrategy()\n",
        "with strategy.scope():\n",
        "\n",
        "  feature_extractor = FeatureExtractor()\n",
        "  classifier = Classifier(n_classes=8)\n",
        "  model = IncrementalLearning(feature_extractor,classifier)\n",
        "\n",
        "  # Compile model\n",
        "  model.compile(optimizer='adam',\n",
        "                loss=tf.keras.losses.SparseCategoricalCrossentropy(from_logits=True),\n",
        "                metrics=['accuracy'])\n",
        "\n",
        "  # Create a callback that saves the model's weights\n",
        "  cp_callback = tf.keras.callbacks.ModelCheckpoint(filepath=checkpoint_path,\n",
        "                                                  save_weights_only=True,\n",
        "                                                  verbose=1)\n",
        "  # Train the model\n",
        "  history = model.fit(train_images, train_labels, epochs=10, \n",
        "                      validation_data=(test_images, test_labels),callbacks=[cp_callback])"
      ],
      "execution_count": 0,
      "outputs": [
        {
          "output_type": "stream",
          "text": [
            "INFO:tensorflow:Using MirroredStrategy with devices ('/job:localhost/replica:0/task:0/device:GPU:0',)\n",
            "Epoch 1/10\n",
            " 987/1000 [============================>.] - ETA: 0s - loss: 1.4691 - accuracy: 0.4501\n",
            "Epoch 00001: saving model to training_1/cp.ckpt\n",
            "1000/1000 [==============================] - 5s 5ms/step - loss: 1.4668 - accuracy: 0.4512 - val_loss: 1.2167 - val_accuracy: 0.5610\n",
            "Epoch 2/10\n",
            " 991/1000 [============================>.] - ETA: 0s - loss: 1.1605 - accuracy: 0.5797\n",
            "Epoch 00002: saving model to training_1/cp.ckpt\n",
            "1000/1000 [==============================] - 4s 4ms/step - loss: 1.1606 - accuracy: 0.5799 - val_loss: 1.0880 - val_accuracy: 0.6055\n",
            "Epoch 3/10\n",
            " 998/1000 [============================>.] - ETA: 0s - loss: 1.0276 - accuracy: 0.6290\n",
            "Epoch 00003: saving model to training_1/cp.ckpt\n",
            "1000/1000 [==============================] - 5s 5ms/step - loss: 1.0276 - accuracy: 0.6290 - val_loss: 1.0323 - val_accuracy: 0.6259\n",
            "Epoch 4/10\n",
            " 986/1000 [============================>.] - ETA: 0s - loss: 0.9398 - accuracy: 0.6626\n",
            "Epoch 00004: saving model to training_1/cp.ckpt\n",
            "1000/1000 [==============================] - 5s 5ms/step - loss: 0.9388 - accuracy: 0.6628 - val_loss: 0.9492 - val_accuracy: 0.6631\n",
            "Epoch 5/10\n",
            " 986/1000 [============================>.] - ETA: 0s - loss: 0.8656 - accuracy: 0.6877\n",
            "Epoch 00005: saving model to training_1/cp.ckpt\n",
            "1000/1000 [==============================] - 5s 5ms/step - loss: 0.8650 - accuracy: 0.6876 - val_loss: 0.9287 - val_accuracy: 0.6668\n",
            "Epoch 6/10\n",
            " 995/1000 [============================>.] - ETA: 0s - loss: 0.8156 - accuracy: 0.7070\n",
            "Epoch 00006: saving model to training_1/cp.ckpt\n",
            "1000/1000 [==============================] - 5s 5ms/step - loss: 0.8160 - accuracy: 0.7065 - val_loss: 0.9025 - val_accuracy: 0.6808\n",
            "Epoch 7/10\n",
            " 998/1000 [============================>.] - ETA: 0s - loss: 0.7680 - accuracy: 0.7260\n",
            "Epoch 00007: saving model to training_1/cp.ckpt\n",
            "1000/1000 [==============================] - 5s 5ms/step - loss: 0.7679 - accuracy: 0.7260 - val_loss: 0.9242 - val_accuracy: 0.6768\n",
            "Epoch 8/10\n",
            " 992/1000 [============================>.] - ETA: 0s - loss: 0.7310 - accuracy: 0.7388\n",
            "Epoch 00008: saving model to training_1/cp.ckpt\n",
            "1000/1000 [==============================] - 5s 5ms/step - loss: 0.7307 - accuracy: 0.7391 - val_loss: 0.8844 - val_accuracy: 0.6941\n",
            "Epoch 9/10\n",
            " 998/1000 [============================>.] - ETA: 0s - loss: 0.6871 - accuracy: 0.7534\n",
            "Epoch 00009: saving model to training_1/cp.ckpt\n",
            "1000/1000 [==============================] - 5s 5ms/step - loss: 0.6872 - accuracy: 0.7533 - val_loss: 0.8860 - val_accuracy: 0.6870\n",
            "Epoch 10/10\n",
            " 990/1000 [============================>.] - ETA: 0s - loss: 0.6485 - accuracy: 0.7691\n",
            "Epoch 00010: saving model to training_1/cp.ckpt\n",
            "1000/1000 [==============================] - 5s 5ms/step - loss: 0.6489 - accuracy: 0.7692 - val_loss: 0.8961 - val_accuracy: 0.6929\n"
          ],
          "name": "stdout"
        }
      ]
    },
    {
      "cell_type": "code",
      "metadata": {
        "id": "2YihYgJYk4Gg",
        "colab_type": "code",
        "outputId": "1f7ef4a3-50e7-4c0b-fd70-2e28976ff55d",
        "colab": {
          "base_uri": "https://localhost:8080/",
          "height": 297
        }
      },
      "source": [
        "plt.plot(history.history['accuracy'], label='accuracy')\n",
        "plt.plot(history.history['val_accuracy'], label = 'val_accuracy')\n",
        "plt.xlabel('Epoch')\n",
        "plt.ylabel('Accuracy')\n",
        "# plt.ylim([0.5, 1])\n",
        "plt.legend()\n",
        "\n",
        "test_loss, test_acc = model.evaluate(test_images,  test_labels, verbose=2)"
      ],
      "execution_count": 0,
      "outputs": [
        {
          "output_type": "stream",
          "text": [
            "250/250 - 1s - loss: 0.8961 - accuracy: 0.6929\n"
          ],
          "name": "stdout"
        },
        {
          "output_type": "display_data",
          "data": {
            "image/png": "[encoded data removed]",
            "text/plain": [
              "<Figure size 432x288 with 1 Axes>"
            ]
          },
          "metadata": {
            "tags": [],
            "needs_background": "light"
          }
        }
      ]
    },
    {
      "cell_type": "markdown",
      "metadata": {
        "id": "6J8qkUoAYN23",
        "colab_type": "text"
      },
      "source": [
        "#### Instantiate new model and load weights from checkpoint"
      ]
    },
    {
      "cell_type": "code",
      "metadata": {
        "id": "j6DGConvYTy-",
        "colab_type": "code",
        "outputId": "195d9647-c9d0-421f-e0bc-0e7eae051caf",
        "colab": {
          "base_uri": "https://localhost:8080/",
          "height": 34
        }
      },
      "source": [
        "# Create a new model instance\n",
        "model = IncrementalLearning(feature_extractor,classifier)\n",
        "# Load the previously saved weights\n",
        "model.load_weights('./training_1/cp.ckpt')"
      ],
      "execution_count": 0,
      "outputs": [
        {
          "output_type": "execute_result",
          "data": {
            "text/plain": [
              "<tensorflow.python.training.tracking.util.CheckpointLoadStatus at 0x7f9e882a6fd0>"
            ]
          },
          "metadata": {
            "tags": []
          },
          "execution_count": 26
        }
      ]
    },
    {
      "cell_type": "markdown",
      "metadata": {
        "id": "dO-jx-z4azH9",
        "colab_type": "text"
      },
      "source": [
        "### Compile the loaded model  "
      ]
    },
    {
      "cell_type": "code",
      "metadata": {
        "id": "av74Cn6ja5ip",
        "colab_type": "code",
        "colab": {}
      },
      "source": [
        "# Compile model\n",
        "model.compile(optimizer='adam',\n",
        "              loss=tf.keras.losses.SparseCategoricalCrossentropy(from_logits=True),\n",
        "              metrics=['accuracy'])"
      ],
      "execution_count": 0,
      "outputs": []
    },
    {
      "cell_type": "markdown",
      "metadata": {
        "id": "5eRSG7HHU1GR",
        "colab_type": "text"
      },
      "source": [
        "### Wrapper for adding new data point with new label into the existing dataset"
      ]
    },
    {
      "cell_type": "code",
      "metadata": {
        "id": "-PpYTooNd5Yd",
        "colab_type": "code",
        "colab": {}
      },
      "source": [
        "# Variable 'train_dataset' carries the shuffled dataset\n",
        "# Split the dataset into tuple((train_images,train_labels),(test_images, test_labels)) \n",
        "\n",
        "dataset = datasets.cifar10.load_data()\n",
        "\n",
        "def custom_dataset_loader(dataset = dataset, new_data = None, old_labels=[0,1,2,3,4,5,6,7], new_labels= [8,9]):\n",
        "  \n",
        "  filtered_training_data = []\n",
        "  filtered_labels = []\n",
        "  allowed_labels = old_labels + new_labels\n",
        "  \n",
        "  # Pick only the data with required labels\n",
        "  for i, _ in enumerate(dataset[0][0]):\n",
        "    if dataset[0][1][i] in allowed_labels:\n",
        "      filtered_training_data.append(dataset[0][0][i]/np.float32(255))\n",
        "      filtered_labels.append(dataset[0][1][i])\n",
        "\n",
        "  train_dataset = tf.data.Dataset.from_tensor_slices((filtered_training_data, filtered_labels))\n",
        "  # TODO: new_dataset = train_dataset+old_dataset\n",
        "  train_dataset.shuffle(len(list(train_dataset)))\n",
        "\n",
        "  # Split into train and test (80%, 20%)\n",
        "  trainind_dataset_size = int(len(list(train_dataset))*0.8)\n",
        "  train_ds,test_ds = train_dataset.take(trainind_dataset_size), train_dataset.skip(trainind_dataset_size)\n",
        "\n",
        "  # Split the images and labels in train and test datasets\n",
        "  train_images,train_labels= np.array(list(train_ds))[:,0],np.array(list(train_ds))[:,1]\n",
        "  train_images,train_labels = tf.convert_to_tensor(train_images.tolist()), tf.convert_to_tensor(train_labels.tolist())\n",
        "  test_images,test_labels = np.array(list(test_ds))[:,0],np.array(list(test_ds))[:,1]\n",
        "  test_images,test_labels = tf.convert_to_tensor(test_images.tolist()),tf.convert_to_tensor(test_labels.tolist())\n",
        "  print('Shape of training images after filtering labels',np.shape(train_images))\n",
        "\n",
        "  return train_images,train_labels,test_images,test_labels"
      ],
      "execution_count": 0,
      "outputs": []
    },
    {
      "cell_type": "code",
      "metadata": {
        "id": "K8TfOw6pkR2B",
        "colab_type": "code",
        "outputId": "64905519-a518-4efd-bf85-7afdbe20447a",
        "colab": {
          "base_uri": "https://localhost:8080/",
          "height": 34
        }
      },
      "source": [
        "train_images,train_labels,test_images,test_labels = custom_dataset_loader(dataset = dataset, new_data = None, old_labels=[0,1,2,3,4,5,6,7], new_labels= [8,9])"
      ],
      "execution_count": 0,
      "outputs": [
        {
          "output_type": "stream",
          "text": [
            "Shape of training images after filtering labels (40000, 32, 32, 3)\n"
          ],
          "name": "stdout"
        }
      ]
    },
    {
      "cell_type": "markdown",
      "metadata": {
        "id": "aR7DW9fPl-fC",
        "colab_type": "text"
      },
      "source": [
        "### Wrapper to dynamically change the architecture of the model with respect to the number of classes in training data"
      ]
    },
    {
      "cell_type": "code",
      "metadata": {
        "id": "QPfnPo4ckbNg",
        "colab_type": "code",
        "colab": {}
      },
      "source": [
        "class FeatureExtractor(Model):\n",
        "  def __init__(self,trainable):\n",
        "    super(FeatureExtractor, self).__init__()\n",
        "    self.conv1 = Conv2D(32, 3, activation='relu',trainable = trainable)\n",
        "    self.maxpool = MaxPooling2D((2,2))\n",
        "    self.conv2 = Conv2D(64, 3, activation='relu',trainable = trainable)\n",
        "    self.conv3 = Conv2D(64,3,activation='relu',trainable = trainable)\n",
        "  def call(self, x):\n",
        "    x = self.conv1(x)\n",
        "    x = self.maxpool(x)\n",
        "    x = self.conv2(x)\n",
        "    x = self.maxpool(x)\n",
        "    x = self.conv3(x)\n",
        "    return x\n",
        "\n",
        "class Classifier(Model):\n",
        "  def __init__(self, n_classes,trainable):\n",
        "    super(Classifier, self).__init__()\n",
        "    self.flatten = Flatten()\n",
        "    self.d1 = Dense(64, activation='relu',trainable = trainable)\n",
        "    self.d2 = Dense(n_classes,trainable = True)\n",
        "\n",
        "  def call(self, x):\n",
        "    x = self.flatten(x)\n",
        "    x = self.d1(x)\n",
        "    return self.d2(x)\n",
        "\n",
        "# Create an instance of the model\n",
        "class IncrementalLearning(Model):\n",
        "\n",
        "  def __init__(self, feature_extractor,classifier):\n",
        "    super(IncrementalLearning, self).__init__()\n",
        "    self.feature_extractor=feature_extractor\n",
        "    self.classifier = classifier\n",
        "\n",
        "  def call(self, x):\n",
        "    features = self.feature_extractor(x)\n",
        "    x = self.classifier(features)\n",
        "    return x"
      ],
      "execution_count": 0,
      "outputs": []
    },
    {
      "cell_type": "code",
      "metadata": {
        "id": "mGm6x3WBzmkR",
        "colab_type": "code",
        "colab": {}
      },
      "source": [
        "### "
      ],
      "execution_count": 0,
      "outputs": []
    }
  ]
}