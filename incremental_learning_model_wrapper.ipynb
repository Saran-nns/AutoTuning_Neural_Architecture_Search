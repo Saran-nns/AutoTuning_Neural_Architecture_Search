{
  "nbformat": 4,
  "nbformat_minor": 0,
  "metadata": {
    "colab": {
      "name": "incremental_learning_model_wrapper.ipynb",
      "provenance": [],
      "collapsed_sections": [],
      "toc_visible": true,
      "authorship_tag": "ABX9TyPWnsqJF6MgkXeg2HGwscQP",
      "include_colab_link": true
    },
    "kernelspec": {
      "name": "python3",
      "display_name": "Python 3"
    },
    "accelerator": "GPU"
  },
  "cells": [
    {
      "cell_type": "markdown",
      "metadata": {
        "id": "view-in-github",
        "colab_type": "text"
      },
      "source": [
        "<a href=\"https://colab.research.google.com/github/Saran-nns/incremental_learning_tf2.0/blob/master/incremental_learning_model_wrapper.ipynb\" target=\"_parent\"><img src=\"https://colab.research.google.com/assets/colab-badge.svg\" alt=\"Open In Colab\"/></a>"
      ]
    },
    {
      "cell_type": "code",
      "metadata": {
        "id": "G20jqN06tTXm",
        "colab_type": "code",
        "colab": {}
      },
      "source": [
        "import tensorflow as tf\n",
        "from tensorflow.keras import datasets, layers, models\n",
        "import tensorflow_datasets as tfds\n",
        "import matplotlib.pyplot as plt\n",
        "import numpy as np\n",
        "from tensorflow.keras.layers import Dense, Flatten, Conv2D, MaxPooling2D\n",
        "from tensorflow.keras import Model"
      ],
      "execution_count": 0,
      "outputs": []
    },
    {
      "cell_type": "markdown",
      "metadata": {
        "id": "KX-Cv5Wwts3F",
        "colab_type": "text"
      },
      "source": [
        "### Data"
      ]
    },
    {
      "cell_type": "code",
      "metadata": {
        "id": "E6Z3Vxc9tanf",
        "colab_type": "code",
        "colab": {}
      },
      "source": [
        "dataset = datasets.cifar10.load_data()"
      ],
      "execution_count": 0,
      "outputs": []
    },
    {
      "cell_type": "code",
      "metadata": {
        "id": "5DKjQek3tNJf",
        "colab_type": "code",
        "colab": {}
      },
      "source": [
        "def custom_dataset_loader(dataset = dataset, allowed_labels =None):\n",
        "  \n",
        "  filtered_training_data = []\n",
        "  filtered_labels = []\n",
        "  # Pick only the data with required labels\n",
        "  for i, _ in enumerate(dataset[0][0]):\n",
        "    if dataset[0][1][i] in allowed_labels:\n",
        "      filtered_training_data.append(dataset[0][0][i]/np.float32(255))\n",
        "      filtered_labels.append(dataset[0][1][i])\n",
        "\n",
        "  train_dataset = tf.data.Dataset.from_tensor_slices((filtered_training_data, filtered_labels))\n",
        "  # TODO: new_dataset = train_dataset+old_dataset\n",
        "  train_dataset.shuffle(len(list(train_dataset)))\n",
        "\n",
        "  # Split into train and test (80%, 20%)\n",
        "  trainind_dataset_size = int(len(list(train_dataset))*0.8)\n",
        "  train_ds,test_ds = train_dataset.take(trainind_dataset_size), train_dataset.skip(trainind_dataset_size)\n",
        "\n",
        "  # Split the images and labels in train and test datasets\n",
        "  train_images,train_labels= np.array(list(train_ds))[:,0],np.array(list(train_ds))[:,1]\n",
        "  train_images,train_labels = tf.convert_to_tensor(train_images.tolist()), tf.convert_to_tensor(train_labels.tolist())\n",
        "  test_images,test_labels = np.array(list(test_ds))[:,0],np.array(list(test_ds))[:,1]\n",
        "  test_images,test_labels = tf.convert_to_tensor(test_images.tolist()),tf.convert_to_tensor(test_labels.tolist())\n",
        "  print('Shape of training images after filtering labels',np.shape(train_images))\n",
        "\n",
        "  return train_images,train_labels,test_images,test_labels"
      ],
      "execution_count": 0,
      "outputs": []
    },
    {
      "cell_type": "markdown",
      "metadata": {
        "id": "AlJXDwWJtvVk",
        "colab_type": "text"
      },
      "source": [
        "### Model"
      ]
    },
    {
      "cell_type": "code",
      "metadata": {
        "id": "TGNDyg7ltg13",
        "colab_type": "code",
        "colab": {}
      },
      "source": [
        "class FeatureExtractor(Model):\n",
        "  def __init__(self,trainable):\n",
        "    super(FeatureExtractor, self).__init__()\n",
        "    self.conv1 = Conv2D(32, 3, activation='relu',trainable = trainable)\n",
        "    self.maxpool = MaxPooling2D((2,2))\n",
        "    self.conv2 = Conv2D(64, 3, activation='relu',trainable = trainable)\n",
        "    self.conv3 = Conv2D(64,3,activation='relu',trainable = trainable)\n",
        "  def call(self, x):\n",
        "    x = self.conv1(x)\n",
        "    x = self.maxpool(x)\n",
        "    x = self.conv2(x)\n",
        "    x = self.maxpool(x)\n",
        "    x = self.conv3(x)\n",
        "    return x\n",
        "\n",
        "class Classifier(Model):\n",
        "  def __init__(self, n_classes):\n",
        "    super(Classifier, self).__init__()\n",
        "    self.flatten = Flatten()\n",
        "    self.n_classes = n_classes\n",
        "    self.d1 = Dense(64, activation='relu')\n",
        "    self.d2 = Dense(n_classes)\n",
        "\n",
        "  def call(self, x):\n",
        "    x = self.flatten(x)\n",
        "    x = self.d1(x)\n",
        "    return self.d2(x)\n",
        "\n",
        "class IncrementalLearning(Model):\n",
        "  def __init__(self, feature_extractor,classifier, is_online = False):\n",
        "    super(IncrementalLearning, self).__init__()\n",
        "    self.feature_extractor=feature_extractor\n",
        "    if is_online:\n",
        "      self.feature_extractor.trainable = False\n",
        "      # Clone the old classifier weights and  set it non-trainable\n",
        "      classifier.trainable = False\n",
        "      # Add new prediction layer and set it trainable\n",
        "      self.new_prediction_layer = tf.keras.layers.Dense(classifier.n_classes,trainable=True)\n",
        "      self.classifier= tf.keras.Sequential([classifier, self.new_prediction_layer])\n",
        "    else:\n",
        "      self.classifier = classifier\n",
        "\n",
        "  def call(self, x):\n",
        "    features = self.feature_extractor(x)\n",
        "    x = self.classifier(features)\n",
        "\n",
        "    return x"
      ],
      "execution_count": 0,
      "outputs": []
    },
    {
      "cell_type": "code",
      "metadata": {
        "id": "chhYAHUb1QU0",
        "colab_type": "code",
        "outputId": "343c7cbc-cb26-4892-80c8-90d1ecd69ffc",
        "colab": {
          "base_uri": "https://localhost:8080/",
          "height": 34
        }
      },
      "source": [
        "x = Classifier(10)\n",
        "x.build((64,))\n",
        "var= [var.name for var in x.trainable_variables]\n",
        "var"
      ],
      "execution_count": 0,
      "outputs": [
        {
          "output_type": "execute_result",
          "data": {
            "text/plain": [
              "['dense/kernel:0', 'dense/bias:0', 'dense_1/kernel:0', 'dense_1/bias:0']"
            ]
          },
          "metadata": {
            "tags": []
          },
          "execution_count": 5
        }
      ]
    },
    {
      "cell_type": "code",
      "metadata": {
        "id": "fhAFuSUEuv-6",
        "colab_type": "code",
        "colab": {}
      },
      "source": [
        "feature_extractor = FeatureExtractor(trainable=True)\n",
        "classifier = Classifier(10)\n",
        "model = IncrementalLearning(feature_extractor,classifier,is_online=False)"
      ],
      "execution_count": 0,
      "outputs": []
    },
    {
      "cell_type": "code",
      "metadata": {
        "id": "3d_4WO01tLcu",
        "colab_type": "code",
        "colab": {}
      },
      "source": [
        "model.build((None,32,32,3))"
      ],
      "execution_count": 0,
      "outputs": []
    },
    {
      "cell_type": "code",
      "metadata": {
        "id": "_QIkFmChwBvl",
        "colab_type": "code",
        "outputId": "63920c9d-f238-445a-b779-4a2458820f2f",
        "colab": {
          "base_uri": "https://localhost:8080/",
          "height": 228
        }
      },
      "source": [
        "model.summary()"
      ],
      "execution_count": 0,
      "outputs": [
        {
          "output_type": "stream",
          "text": [
            "Model: \"incremental_learning\"\n",
            "_________________________________________________________________\n",
            "Layer (type)                 Output Shape              Param #   \n",
            "=================================================================\n",
            "feature_extractor (FeatureEx multiple                  56320     \n",
            "_________________________________________________________________\n",
            "classifier_1 (Classifier)    multiple                  66250     \n",
            "=================================================================\n",
            "Total params: 122,570\n",
            "Trainable params: 122,570\n",
            "Non-trainable params: 0\n",
            "_________________________________________________________________\n"
          ],
          "name": "stdout"
        }
      ]
    },
    {
      "cell_type": "code",
      "metadata": {
        "id": "QVAiQcT7okO7",
        "colab_type": "code",
        "colab": {}
      },
      "source": [
        "feature_extractor1 = FeatureExtractor(trainable=False)\n",
        "classifier1 = Classifier(10)\n",
        "model2 = IncrementalLearning(feature_extractor,classifier,is_online=True)\n"
      ],
      "execution_count": 0,
      "outputs": []
    },
    {
      "cell_type": "code",
      "metadata": {
        "id": "GviDAEPaCrbw",
        "colab_type": "code",
        "outputId": "3e597b74-cf2c-4b82-d0ef-6c893f150662",
        "colab": {
          "base_uri": "https://localhost:8080/",
          "height": 263
        }
      },
      "source": [
        "model2.build((None,32,32,3))\n",
        "model2.summary()"
      ],
      "execution_count": 0,
      "outputs": [
        {
          "output_type": "stream",
          "text": [
            "Model: \"incremental_learning_1\"\n",
            "_________________________________________________________________\n",
            "Layer (type)                 Output Shape              Param #   \n",
            "=================================================================\n",
            "feature_extractor (FeatureEx multiple                  56320     \n",
            "_________________________________________________________________\n",
            "dense_6 (Dense)              multiple                  110       \n",
            "_________________________________________________________________\n",
            "sequential (Sequential)      multiple                  66360     \n",
            "=================================================================\n",
            "Total params: 122,680\n",
            "Trainable params: 110\n",
            "Non-trainable params: 122,570\n",
            "_________________________________________________________________\n"
          ],
          "name": "stdout"
        }
      ]
    },
    {
      "cell_type": "markdown",
      "metadata": {
        "id": "qD48VEWFG8Rt",
        "colab_type": "text"
      },
      "source": [
        "### Training Loop\n"
      ]
    },
    {
      "cell_type": "markdown",
      "metadata": {
        "id": "AR9nzM84HCbF",
        "colab_type": "text"
      },
      "source": [
        "#### Dataloader"
      ]
    },
    {
      "cell_type": "code",
      "metadata": {
        "id": "aPSpy-r7G_B5",
        "colab_type": "code",
        "outputId": "cda22f2f-e811-4066-be3b-4b9232c35afe",
        "colab": {
          "base_uri": "https://localhost:8080/",
          "height": 34
        }
      },
      "source": [
        "old_labels = [0,1,2,3,4,5,6,7]\n",
        "new_labels = []\n",
        "allowed_labels = old_labels + new_labels\n",
        "train_images,train_labels,test_images,test_labels = custom_dataset_loader(dataset = dataset, \n",
        "                                                                          allowed_labels = allowed_labels)"
      ],
      "execution_count": 0,
      "outputs": [
        {
          "output_type": "stream",
          "text": [
            "Shape of training images after filtering labels (32000, 32, 32, 3)\n"
          ],
          "name": "stdout"
        }
      ]
    },
    {
      "cell_type": "markdown",
      "metadata": {
        "id": "CKWC5Ivcqfci",
        "colab_type": "text"
      },
      "source": [
        "#### Checkpoints and Callbacks"
      ]
    },
    {
      "cell_type": "code",
      "metadata": {
        "id": "qmVvgishs6m3",
        "colab_type": "code",
        "colab": {}
      },
      "source": [
        "import os\n",
        "checkpoint_path = \"training_1/cp.ckpt\"\n",
        "checkpoint_dir = os.path.dirname(checkpoint_path)"
      ],
      "execution_count": 0,
      "outputs": []
    },
    {
      "cell_type": "code",
      "metadata": {
        "id": "5Q5EfczwqhgY",
        "colab_type": "code",
        "colab": {}
      },
      "source": [
        "class CollectBatchStats(tf.keras.callbacks.Callback):\n",
        "  \"\"\"To visualize batch wise training progress\n",
        "  NOTE: Batch wise stats slow down the training progress as well\"\"\"\n",
        "  def __init__(self):\n",
        "    self.batch_losses = []\n",
        "    self.batch_acc = []\n",
        "\n",
        "  def on_train_batch_end(self, batch, logs=None):\n",
        "    self.batch_losses.append(logs['loss'])\n",
        "    self.batch_acc.append(logs['acc'])\n",
        "    self.model.reset_metrics()"
      ],
      "execution_count": 0,
      "outputs": []
    },
    {
      "cell_type": "markdown",
      "metadata": {
        "id": "U726EwG1pQgA",
        "colab_type": "text"
      },
      "source": [
        "#### Train using Mirror strategy"
      ]
    },
    {
      "cell_type": "code",
      "metadata": {
        "id": "U3qlrRR6pZVt",
        "colab_type": "code",
        "outputId": "e6e435b3-9e5e-47a9-9299-2be6b9dc7452",
        "colab": {
          "base_uri": "https://localhost:8080/",
          "height": 934
        }
      },
      "source": [
        "strategy = tf.distribute.MirroredStrategy()\n",
        "with strategy.scope():\n",
        "\n",
        "  feature_extractor = FeatureExtractor(trainable=False)\n",
        "  classifier = Classifier(n_classes=8)\n",
        "  model = IncrementalLearning(feature_extractor,classifier,is_online = True)\n",
        "  batch_stats_callback = CollectBatchStats()\n",
        "  # Compile model\n",
        "  model.compile(optimizer='adam',\n",
        "                loss=tf.keras.losses.SparseCategoricalCrossentropy(from_logits=True),\n",
        "                metrics=['acc'])\n",
        "\n",
        "  # Create a callback that saves the model's weights\n",
        "  cp_callback = tf.keras.callbacks.ModelCheckpoint(filepath=checkpoint_path,\n",
        "                                                  save_weights_only=True,\n",
        "                                                  verbose=1)\n",
        "  # Train the model\n",
        "  history = model.fit(train_images, train_labels, epochs=10, \n",
        "                      validation_data=(test_images, test_labels),callbacks=[cp_callback, batch_stats_callback])"
      ],
      "execution_count": 0,
      "outputs": [
        {
          "output_type": "stream",
          "text": [
            "INFO:tensorflow:Using MirroredStrategy with devices ('/job:localhost/replica:0/task:0/device:GPU:0',)\n",
            "Epoch 1/10\n",
            "INFO:tensorflow:Reduce to /job:localhost/replica:0/task:0/device:CPU:0 then broadcast to ('/job:localhost/replica:0/task:0/device:CPU:0',).\n",
            "INFO:tensorflow:Reduce to /job:localhost/replica:0/task:0/device:CPU:0 then broadcast to ('/job:localhost/replica:0/task:0/device:CPU:0',).\n",
            "INFO:tensorflow:Reduce to /job:localhost/replica:0/task:0/device:CPU:0 then broadcast to ('/job:localhost/replica:0/task:0/device:CPU:0',).\n",
            "INFO:tensorflow:Reduce to /job:localhost/replica:0/task:0/device:CPU:0 then broadcast to ('/job:localhost/replica:0/task:0/device:CPU:0',).\n",
            "INFO:tensorflow:Reduce to /job:localhost/replica:0/task:0/device:CPU:0 then broadcast to ('/job:localhost/replica:0/task:0/device:CPU:0',).\n",
            "INFO:tensorflow:Reduce to /job:localhost/replica:0/task:0/device:CPU:0 then broadcast to ('/job:localhost/replica:0/task:0/device:CPU:0',).\n",
            "INFO:tensorflow:Reduce to /job:localhost/replica:0/task:0/device:CPU:0 then broadcast to ('/job:localhost/replica:0/task:0/device:CPU:0',).\n",
            "INFO:tensorflow:Reduce to /job:localhost/replica:0/task:0/device:CPU:0 then broadcast to ('/job:localhost/replica:0/task:0/device:CPU:0',).\n",
            " 992/1000 [============================>.] - ETA: 0s - acc: 0.1562 - loss: 2.0647INFO:tensorflow:Reduce to /job:localhost/replica:0/task:0/device:CPU:0 then broadcast to ('/job:localhost/replica:0/task:0/device:CPU:0',).\n",
            "INFO:tensorflow:Reduce to /job:localhost/replica:0/task:0/device:CPU:0 then broadcast to ('/job:localhost/replica:0/task:0/device:CPU:0',).\n",
            "\n",
            "Epoch 00001: saving model to training_1/cp.ckpt\n",
            "1000/1000 [==============================] - 6s 6ms/step - acc: 0.1250 - loss: 2.0718 - val_acc: 0.1657 - val_loss: 2.0707\n",
            "Epoch 2/10\n",
            " 996/1000 [============================>.] - ETA: 0s - acc: 0.0625 - loss: 2.0725\n",
            "Epoch 00002: saving model to training_1/cp.ckpt\n",
            "1000/1000 [==============================] - 6s 6ms/step - acc: 0.3125 - loss: 2.0529 - val_acc: 0.1910 - val_loss: 2.0624\n",
            "Epoch 3/10\n",
            " 989/1000 [============================>.] - ETA: 0s - acc: 0.1250 - loss: 2.0723\n",
            "Epoch 00003: saving model to training_1/cp.ckpt\n",
            "1000/1000 [==============================] - 6s 6ms/step - acc: 0.1875 - loss: 2.0720 - val_acc: 0.2190 - val_loss: 2.0548\n",
            "Epoch 4/10\n",
            " 987/1000 [============================>.] - ETA: 0s - acc: 0.3125 - loss: 2.0375\n",
            "Epoch 00004: saving model to training_1/cp.ckpt\n",
            "1000/1000 [==============================] - 6s 6ms/step - acc: 0.2500 - loss: 2.0443 - val_acc: 0.2225 - val_loss: 2.0479\n",
            "Epoch 5/10\n",
            " 993/1000 [============================>.] - ETA: 0s - acc: 0.2500 - loss: 2.0327\n",
            "Epoch 00005: saving model to training_1/cp.ckpt\n",
            "1000/1000 [==============================] - 6s 6ms/step - acc: 0.1562 - loss: 2.0806 - val_acc: 0.2245 - val_loss: 2.0416\n",
            "Epoch 6/10\n",
            " 989/1000 [============================>.] - ETA: 0s - acc: 0.2500 - loss: 2.0430\n",
            "Epoch 00006: saving model to training_1/cp.ckpt\n",
            "1000/1000 [==============================] - 6s 6ms/step - acc: 0.2188 - loss: 2.0268 - val_acc: 0.2298 - val_loss: 2.0355\n",
            "Epoch 7/10\n",
            " 987/1000 [============================>.] - ETA: 0s - acc: 0.2812 - loss: 1.9924\n",
            "Epoch 00007: saving model to training_1/cp.ckpt\n",
            "1000/1000 [==============================] - 6s 6ms/step - acc: 0.3438 - loss: 1.9783 - val_acc: 0.2345 - val_loss: 2.0302\n",
            "Epoch 8/10\n",
            "1000/1000 [==============================] - ETA: 0s - acc: 0.2812 - loss: 2.0337\n",
            "Epoch 00008: saving model to training_1/cp.ckpt\n",
            "1000/1000 [==============================] - 5s 5ms/step - acc: 0.2812 - loss: 2.0337 - val_acc: 0.2355 - val_loss: 2.0255\n",
            "Epoch 9/10\n",
            " 991/1000 [============================>.] - ETA: 0s - acc: 0.2812 - loss: 2.0171\n",
            "Epoch 00009: saving model to training_1/cp.ckpt\n",
            "1000/1000 [==============================] - 6s 6ms/step - acc: 0.3438 - loss: 1.9575 - val_acc: 0.2399 - val_loss: 2.0208\n",
            "Epoch 10/10\n",
            " 999/1000 [============================>.] - ETA: 0s - acc: 0.2188 - loss: 2.0333\n",
            "Epoch 00010: saving model to training_1/cp.ckpt\n",
            "1000/1000 [==============================] - 6s 6ms/step - acc: 0.2188 - loss: 2.0215 - val_acc: 0.2362 - val_loss: 2.0170\n"
          ],
          "name": "stdout"
        }
      ]
    },
    {
      "cell_type": "markdown",
      "metadata": {
        "id": "txzPRvGKv0ad",
        "colab_type": "text"
      },
      "source": [
        "### Evaluate"
      ]
    },
    {
      "cell_type": "code",
      "metadata": {
        "id": "90_aKQGmpeY0",
        "colab_type": "code",
        "outputId": "cdc2e513-5d33-4ec6-ee0f-aa7475ff5157",
        "colab": {
          "base_uri": "https://localhost:8080/",
          "height": 313
        }
      },
      "source": [
        "plt.plot(history.history['acc'], label='accuracy')\n",
        "plt.plot(history.history['val_acc'], label = 'val_accuracy')\n",
        "plt.xlabel('Epoch')\n",
        "plt.ylabel('Accuracy')\n",
        "# plt.ylim([0.5, 1])\n",
        "plt.legend()\n",
        "plt.title('Epochwise stats')\n",
        "test_loss, test_acc = model.evaluate(test_images,  test_labels, verbose=2)"
      ],
      "execution_count": 0,
      "outputs": [
        {
          "output_type": "stream",
          "text": [
            "250/250 - 1s - acc: 0.2362 - loss: 2.0170\n"
          ],
          "name": "stdout"
        },
        {
          "output_type": "display_data",
          "data": {
            "image/png": "[encoded data removed]",
            "text/plain": [
              "<Figure size 432x288 with 1 Axes>"
            ]
          },
          "metadata": {
            "tags": [],
            "needs_background": "light"
          }
        }
      ]
    },
    {
      "cell_type": "code",
      "metadata": {
        "id": "arZRLRW5v2TU",
        "colab_type": "code",
        "outputId": "725d5d3d-31d9-4eb0-a0e2-c00c95ccc402",
        "colab": {
          "base_uri": "https://localhost:8080/",
          "height": 313
        }
      },
      "source": [
        "plt.figure()\n",
        "plt.ylabel(\"Loss\")\n",
        "plt.xlabel(\"Training Steps\")\n",
        "plt.ylim([0,2])\n",
        "plt.title('Batchwise stats')\n",
        "plt.plot(batch_stats_callback.batch_losses)"
      ],
      "execution_count": 0,
      "outputs": [
        {
          "output_type": "execute_result",
          "data": {
            "text/plain": [
              "[<matplotlib.lines.Line2D at 0x7ff80c099e48>]"
            ]
          },
          "metadata": {
            "tags": []
          },
          "execution_count": 16
        },
        {
          "output_type": "display_data",
          "data": {
            "image/png": "[encoded data removed]",
            "text/plain": [
              "<Figure size 432x288 with 1 Axes>"
            ]
          },
          "metadata": {
            "tags": [],
            "needs_background": "light"
          }
        }
      ]
    },
    {
      "cell_type": "code",
      "metadata": {
        "id": "PIzqJvvzwc0A",
        "colab_type": "code",
        "outputId": "af644402-31fe-4f15-8748-963beb923599",
        "colab": {
          "base_uri": "https://localhost:8080/",
          "height": 301
        }
      },
      "source": [
        "plt.figure()\n",
        "plt.ylabel(\"Accuracy\")\n",
        "plt.xlabel(\"Training Steps\")\n",
        "plt.ylim([0,1])\n",
        "plt.plot(batch_stats_callback.batch_acc)"
      ],
      "execution_count": 0,
      "outputs": [
        {
          "output_type": "execute_result",
          "data": {
            "text/plain": [
              "[<matplotlib.lines.Line2D at 0x7ff80953d518>]"
            ]
          },
          "metadata": {
            "tags": []
          },
          "execution_count": 17
        },
        {
          "output_type": "display_data",
          "data": {
            "image/png": "[encoded data removed]",
            "text/plain": [
              "<Figure size 432x288 with 1 Axes>"
            ]
          },
          "metadata": {
            "tags": [],
            "needs_background": "light"
          }
        }
      ]
    },
    {
      "cell_type": "markdown",
      "metadata": {
        "id": "-XYzlJjHBpA8",
        "colab_type": "text"
      },
      "source": [
        "### Train using Pretrained feature extractor model (ResNet)"
      ]
    },
    {
      "cell_type": "code",
      "metadata": {
        "id": "X-LoRGfECA2b",
        "colab_type": "code",
        "colab": {}
      },
      "source": [
        "feature_extractor = tf.keras.applications.ResNet50()"
      ],
      "execution_count": 0,
      "outputs": []
    },
    {
      "cell_type": "markdown",
      "metadata": {
        "id": "ugGXv4x3JjKJ",
        "colab_type": "text"
      },
      "source": [
        "#### Custom classifier layer since the output size from ResNet is unknown"
      ]
    },
    {
      "cell_type": "code",
      "metadata": {
        "id": "wrh890kCJtJG",
        "colab_type": "code",
        "colab": {}
      },
      "source": [
        "class CustomClassifier(layers.Layer):\n",
        "\n",
        "  def __init__(self, units=64,n_classes = 10):\n",
        "    super(CustomClassifier, self).__init__()\n",
        "    self.units = units\n",
        "    self.n_classes = n_classes\n",
        "\n",
        "  def build(self, input_shape):\n",
        "    self.w = self.add_weight(shape=(input_shape[-1], self.units),\n",
        "                             initializer='random_normal',\n",
        "                             trainable = True)\n",
        "    self.b = self.add_weight(shape=(self.units,),\n",
        "                             initializer='random_normal',\n",
        "                             trainable = True)\n",
        "\n",
        "  def call(self, inputs):\n",
        "    return tf.nn.relu(tf.matmul(inputs, self.w) + self.b)"
      ],
      "execution_count": 0,
      "outputs": []
    },
    {
      "cell_type": "code",
      "metadata": {
        "id": "L6cqn7t0D_Zc",
        "colab_type": "code",
        "colab": {}
      },
      "source": [
        "# This custom classifier is assumed to be pretrained. A new classifier layer will be created and will be set to trainable\n",
        "# while instantiating IncrementalLearning class\n",
        "custom_classifier = CustomClassifier(n_classes = 8)\n",
        "model = IncrementalLearning(feature_extractor,custom_classifier,is_online=True)"
      ],
      "execution_count": 0,
      "outputs": []
    },
    {
      "cell_type": "code",
      "metadata": {
        "id": "Mg5bZEXTETgx",
        "colab_type": "code",
        "outputId": "ad6e06ab-6868-4028-aa56-38dcc6f1dd7e",
        "colab": {
          "base_uri": "https://localhost:8080/",
          "height": 301
        }
      },
      "source": [
        "model.build((None,32,32,3))\n",
        "model.summary()"
      ],
      "execution_count": 0,
      "outputs": [
        {
          "output_type": "stream",
          "text": [
            "WARNING:tensorflow:Model was constructed with shape (None, 224, 224, 3) for input Tensor(\"input_1:0\", shape=(None, 224, 224, 3), dtype=float32), but it was called on an input with incompatible shape (None, 32, 32, 3).\n",
            "Model: \"incremental_learning_3\"\n",
            "_________________________________________________________________\n",
            "Layer (type)                 Output Shape              Param #   \n",
            "=================================================================\n",
            "resnet50 (Model)             (None, 1000)              25636712  \n",
            "_________________________________________________________________\n",
            "dense_10 (Dense)             multiple                  520       \n",
            "_________________________________________________________________\n",
            "sequential_2 (Sequential)    multiple                  64584     \n",
            "=================================================================\n",
            "Total params: 25,701,296\n",
            "Trainable params: 520\n",
            "Non-trainable params: 25,700,776\n",
            "_________________________________________________________________\n"
          ],
          "name": "stdout"
        }
      ]
    },
    {
      "cell_type": "markdown",
      "metadata": {
        "id": "TIRxOGvVEokp",
        "colab_type": "text"
      },
      "source": [
        "#### Train only the classifier\n",
        "Note: There is a part of classifier already trained at previous run;\n",
        "Therefore, by adding new classifier inside incremental learning instance, will set the previous sequential layer of classifier False. Only the new instance of the "
      ]
    },
    {
      "cell_type": "code",
      "metadata": {
        "id": "LO-zyeItEYPv",
        "colab_type": "code",
        "outputId": "9cbcdf51-c338-49f3-d055-aee6f6ac15da",
        "colab": {
          "base_uri": "https://localhost:8080/",
          "height": 738
        }
      },
      "source": [
        "strategy = tf.distribute.MirroredStrategy()\n",
        "with strategy.scope():\n",
        "\n",
        "  feature_extractor = FeatureExtractor(trainable=False)\n",
        "  classifier = Classifier(n_classes=8)\n",
        "  model = IncrementalLearning(feature_extractor,classifier,is_online = True)\n",
        "  batch_stats_callback = CollectBatchStats()\n",
        "  # Compile model\n",
        "  model.compile(optimizer='adam',\n",
        "                loss=tf.keras.losses.SparseCategoricalCrossentropy(from_logits=True),\n",
        "                metrics=['acc'])\n",
        "\n",
        "  # Create a callback that saves the model's weights\n",
        "  cp_callback = tf.keras.callbacks.ModelCheckpoint(filepath=checkpoint_path,\n",
        "                                                  save_weights_only=True,\n",
        "                                                  verbose=1)\n",
        "  # Train the model\n",
        "  history = model.fit(train_images, train_labels, epochs=10, \n",
        "                      validation_data=(test_images, test_labels),callbacks=[cp_callback, batch_stats_callback])"
      ],
      "execution_count": 0,
      "outputs": [
        {
          "output_type": "stream",
          "text": [
            "INFO:tensorflow:Using MirroredStrategy with devices ('/job:localhost/replica:0/task:0/device:GPU:0',)\n",
            "Epoch 1/10\n",
            " 994/1000 [============================>.] - ETA: 0s - acc: 0.1250 - loss: 2.0758\n",
            "Epoch 00001: saving model to training_1/cp.ckpt\n",
            "1000/1000 [==============================] - 6s 6ms/step - acc: 0.1250 - loss: 2.0883 - val_acc: 0.1433 - val_loss: 2.0758\n",
            "Epoch 2/10\n",
            "1000/1000 [==============================] - ETA: 0s - acc: 0.0625 - loss: 2.0812\n",
            "Epoch 00002: saving model to training_1/cp.ckpt\n",
            "1000/1000 [==============================] - 6s 6ms/step - acc: 0.0625 - loss: 2.0812 - val_acc: 0.1864 - val_loss: 2.0699\n",
            "Epoch 3/10\n",
            " 995/1000 [============================>.] - ETA: 0s - acc: 0.1562 - loss: 2.0617\n",
            "Epoch 00003: saving model to training_1/cp.ckpt\n",
            "1000/1000 [==============================] - 6s 6ms/step - acc: 0.1875 - loss: 2.0621 - val_acc: 0.1807 - val_loss: 2.0643\n",
            "Epoch 4/10\n",
            " 987/1000 [============================>.] - ETA: 0s - acc: 0.1562 - loss: 2.0829\n",
            "Epoch 00004: saving model to training_1/cp.ckpt\n",
            "1000/1000 [==============================] - 6s 6ms/step - acc: 0.1562 - loss: 2.0652 - val_acc: 0.1999 - val_loss: 2.0593\n",
            "Epoch 5/10\n",
            " 992/1000 [============================>.] - ETA: 0s - acc: 0.0312 - loss: 2.0799\n",
            "Epoch 00005: saving model to training_1/cp.ckpt\n",
            "1000/1000 [==============================] - 6s 6ms/step - acc: 0.2500 - loss: 2.0507 - val_acc: 0.2035 - val_loss: 2.0542\n",
            "Epoch 6/10\n",
            " 995/1000 [============================>.] - ETA: 0s - acc: 0.1250 - loss: 2.0825\n",
            "Epoch 00006: saving model to training_1/cp.ckpt\n",
            "1000/1000 [==============================] - 5s 5ms/step - acc: 0.2500 - loss: 2.0499 - val_acc: 0.2010 - val_loss: 2.0501\n",
            "Epoch 7/10\n",
            " 991/1000 [============================>.] - ETA: 0s - acc: 0.2188 - loss: 2.0361\n",
            "Epoch 00007: saving model to training_1/cp.ckpt\n",
            "1000/1000 [==============================] - 5s 5ms/step - acc: 0.2188 - loss: 2.0613 - val_acc: 0.2094 - val_loss: 2.0459\n",
            "Epoch 8/10\n",
            " 990/1000 [============================>.] - ETA: 0s - acc: 0.0625 - loss: 2.0681\n",
            "Epoch 00008: saving model to training_1/cp.ckpt\n",
            "1000/1000 [==============================] - 6s 6ms/step - acc: 0.2188 - loss: 2.0340 - val_acc: 0.2118 - val_loss: 2.0420\n",
            "Epoch 9/10\n",
            " 993/1000 [============================>.] - ETA: 0s - acc: 0.1875 - loss: 2.0774\n",
            "Epoch 00009: saving model to training_1/cp.ckpt\n",
            "1000/1000 [==============================] - 6s 6ms/step - acc: 0.1875 - loss: 2.0647 - val_acc: 0.2140 - val_loss: 2.0385\n",
            "Epoch 10/10\n",
            " 993/1000 [============================>.] - ETA: 0s - acc: 0.3438 - loss: 2.0076\n",
            "Epoch 00010: saving model to training_1/cp.ckpt\n",
            "1000/1000 [==============================] - 6s 6ms/step - acc: 0.1875 - loss: 2.0475 - val_acc: 0.2077 - val_loss: 2.0356\n"
          ],
          "name": "stdout"
        }
      ]
    }
  ]
}