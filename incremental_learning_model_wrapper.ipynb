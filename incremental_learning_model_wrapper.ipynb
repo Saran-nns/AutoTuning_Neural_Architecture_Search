{
  "nbformat": 4,
  "nbformat_minor": 0,
  "metadata": {
    "colab": {
      "name": "incremental_learning_model_wrapper.ipynb",
      "provenance": [],
      "collapsed_sections": [],
      "toc_visible": true,
      "authorship_tag": "ABX9TyOyz2zVOXxaCIFThOssmCvR",
      "include_colab_link": true
    },
    "kernelspec": {
      "name": "python3",
      "display_name": "Python 3"
    }
  },
  "cells": [
    {
      "cell_type": "markdown",
      "metadata": {
        "id": "view-in-github",
        "colab_type": "text"
      },
      "source": [
        "<a href=\"https://colab.research.google.com/github/Saran-nns/incremental_learning_tf2.0/blob/master/incremental_learning_model_wrapper.ipynb\" target=\"_parent\"><img src=\"https://colab.research.google.com/assets/colab-badge.svg\" alt=\"Open In Colab\"/></a>"
      ]
    },
    {
      "cell_type": "code",
      "metadata": {
        "id": "G20jqN06tTXm",
        "colab_type": "code",
        "colab": {}
      },
      "source": [
        "import tensorflow as tf\n",
        "from tensorflow.keras import datasets, layers, models\n",
        "import tensorflow_datasets as tfds\n",
        "import matplotlib.pyplot as plt\n",
        "import numpy as np\n",
        "from tensorflow.keras.layers import Dense, Flatten, Conv2D, MaxPooling2D\n",
        "from tensorflow.keras import Model"
      ],
      "execution_count": 0,
      "outputs": []
    },
    {
      "cell_type": "markdown",
      "metadata": {
        "id": "KX-Cv5Wwts3F",
        "colab_type": "text"
      },
      "source": [
        "### Data"
      ]
    },
    {
      "cell_type": "code",
      "metadata": {
        "id": "E6Z3Vxc9tanf",
        "colab_type": "code",
        "colab": {}
      },
      "source": [
        "dataset = datasets.cifar10.load_data()"
      ],
      "execution_count": 0,
      "outputs": []
    },
    {
      "cell_type": "code",
      "metadata": {
        "id": "5DKjQek3tNJf",
        "colab_type": "code",
        "colab": {}
      },
      "source": [
        "def custom_dataset_loader(dataset = dataset, allowed_labels =None):\n",
        "  \n",
        "  filtered_training_data = []\n",
        "  filtered_labels = []\n",
        "  # Pick only the data with required labels\n",
        "  for i, _ in enumerate(dataset[0][0]):\n",
        "    if dataset[0][1][i] in allowed_labels:\n",
        "      filtered_training_data.append(dataset[0][0][i]/np.float32(255))\n",
        "      filtered_labels.append(dataset[0][1][i])\n",
        "\n",
        "  train_dataset = tf.data.Dataset.from_tensor_slices((filtered_training_data, filtered_labels))\n",
        "  # TODO: new_dataset = train_dataset+old_dataset\n",
        "  train_dataset.shuffle(len(list(train_dataset)))\n",
        "\n",
        "  # Split into train and test (80%, 20%)\n",
        "  trainind_dataset_size = int(len(list(train_dataset))*0.8)\n",
        "  train_ds,test_ds = train_dataset.take(trainind_dataset_size), train_dataset.skip(trainind_dataset_size)\n",
        "\n",
        "  # Split the images and labels in train and test datasets\n",
        "  train_images,train_labels= np.array(list(train_ds))[:,0],np.array(list(train_ds))[:,1]\n",
        "  train_images,train_labels = tf.convert_to_tensor(train_images.tolist()), tf.convert_to_tensor(train_labels.tolist())\n",
        "  test_images,test_labels = np.array(list(test_ds))[:,0],np.array(list(test_ds))[:,1]\n",
        "  test_images,test_labels = tf.convert_to_tensor(test_images.tolist()),tf.convert_to_tensor(test_labels.tolist())\n",
        "  print('Shape of training images after filtering labels',np.shape(train_images))\n",
        "\n",
        "  return train_images,train_labels,test_images,test_labels"
      ],
      "execution_count": 0,
      "outputs": []
    },
    {
      "cell_type": "markdown",
      "metadata": {
        "id": "AlJXDwWJtvVk",
        "colab_type": "text"
      },
      "source": [
        "### Model"
      ]
    },
    {
      "cell_type": "code",
      "metadata": {
        "id": "TGNDyg7ltg13",
        "colab_type": "code",
        "colab": {}
      },
      "source": [
        "class FeatureExtractor(Model):\n",
        "  def __init__(self,trainable):\n",
        "    super(FeatureExtractor, self).__init__()\n",
        "    self.conv1 = Conv2D(32, 3, activation='relu',trainable = trainable)\n",
        "    self.maxpool = MaxPooling2D((2,2))\n",
        "    self.conv2 = Conv2D(64, 3, activation='relu',trainable = trainable)\n",
        "    self.conv3 = Conv2D(64,3,activation='relu',trainable = trainable)\n",
        "  def call(self, x):\n",
        "    x = self.conv1(x)\n",
        "    x = self.maxpool(x)\n",
        "    x = self.conv2(x)\n",
        "    x = self.maxpool(x)\n",
        "    x = self.conv3(x)\n",
        "    return x\n",
        "\n",
        "class Classifier(Model):\n",
        "  def __init__(self, n_classes):\n",
        "    super(Classifier, self).__init__()\n",
        "    self.flatten = Flatten()\n",
        "    self.n_classes = n_classes\n",
        "    self.d1 = Dense(64, activation='relu')\n",
        "    self.d2 = Dense(n_classes)\n",
        "\n",
        "  def call(self, x):\n",
        "    x = self.flatten(x)\n",
        "    x = self.d1(x)\n",
        "    return self.d2(x)\n",
        "\n",
        "class IncrementalLearning(Model):\n",
        "  def __init__(self, feature_extractor,classifier, is_online = False):\n",
        "    super(IncrementalLearning, self).__init__()\n",
        "    self.feature_extractor=feature_extractor\n",
        "    if is_online:\n",
        "      self.feature_extractor.trainable = False\n",
        "      # Clone the old classifier weights and  set it non-trainable\n",
        "      classifier.trainable = False\n",
        "      # Add new prediction layer and set it trainable\n",
        "      self.new_prediction_layer = tf.keras.layers.Dense(classifier.n_classes,trainable=True)\n",
        "      self.classifier= tf.keras.Sequential([classifier, self.new_prediction_layer])\n",
        "    else:\n",
        "      self.classifier = classifier\n",
        "\n",
        "  def call(self, x):\n",
        "    features = self.feature_extractor(x)\n",
        "    x = self.classifier(features)\n",
        "\n",
        "    return x"
      ],
      "execution_count": 0,
      "outputs": []
    },
    {
      "cell_type": "code",
      "metadata": {
        "id": "chhYAHUb1QU0",
        "colab_type": "code",
        "outputId": "465e9166-f0ce-4b11-a0ca-a8094451f9b9",
        "colab": {
          "base_uri": "https://localhost:8080/",
          "height": 34
        }
      },
      "source": [
        "x = Classifier(10)\n",
        "x.build((64,))\n",
        "var= [var.name for var in x.trainable_variables]\n",
        "var"
      ],
      "execution_count": 5,
      "outputs": [
        {
          "output_type": "execute_result",
          "data": {
            "text/plain": [
              "['dense/kernel:0', 'dense/bias:0', 'dense_1/kernel:0', 'dense_1/bias:0']"
            ]
          },
          "metadata": {
            "tags": []
          },
          "execution_count": 5
        }
      ]
    },
    {
      "cell_type": "code",
      "metadata": {
        "id": "fhAFuSUEuv-6",
        "colab_type": "code",
        "colab": {}
      },
      "source": [
        "feature_extractor = FeatureExtractor(trainable=True)\n",
        "classifier = Classifier(10)\n",
        "model = IncrementalLearning(feature_extractor,classifier,is_online=False)"
      ],
      "execution_count": 0,
      "outputs": []
    },
    {
      "cell_type": "code",
      "metadata": {
        "id": "3d_4WO01tLcu",
        "colab_type": "code",
        "colab": {}
      },
      "source": [
        "model.build((None,32,32,3))"
      ],
      "execution_count": 0,
      "outputs": []
    },
    {
      "cell_type": "code",
      "metadata": {
        "id": "_QIkFmChwBvl",
        "colab_type": "code",
        "colab": {
          "base_uri": "https://localhost:8080/",
          "height": 228
        },
        "outputId": "f07312e6-5cef-400a-e456-af1a4f99ea69"
      },
      "source": [
        "model.summary()"
      ],
      "execution_count": 8,
      "outputs": [
        {
          "output_type": "stream",
          "text": [
            "Model: \"incremental_learning\"\n",
            "_________________________________________________________________\n",
            "Layer (type)                 Output Shape              Param #   \n",
            "=================================================================\n",
            "feature_extractor (FeatureEx multiple                  56320     \n",
            "_________________________________________________________________\n",
            "classifier_1 (Classifier)    multiple                  66250     \n",
            "=================================================================\n",
            "Total params: 122,570\n",
            "Trainable params: 122,570\n",
            "Non-trainable params: 0\n",
            "_________________________________________________________________\n"
          ],
          "name": "stdout"
        }
      ]
    },
    {
      "cell_type": "code",
      "metadata": {
        "id": "QVAiQcT7okO7",
        "colab_type": "code",
        "colab": {}
      },
      "source": [
        "feature_extractor1 = FeatureExtractor(trainable=False)\n",
        "classifier1 = Classifier(10)\n",
        "model2 = IncrementalLearning(feature_extractor,classifier,is_online=True)\n"
      ],
      "execution_count": 0,
      "outputs": []
    },
    {
      "cell_type": "code",
      "metadata": {
        "id": "GviDAEPaCrbw",
        "colab_type": "code",
        "colab": {
          "base_uri": "https://localhost:8080/",
          "height": 263
        },
        "outputId": "6d358958-b5ee-4172-e2e8-4f2427b09389"
      },
      "source": [
        "model2.build((None,32,32,3))\n",
        "model2.summary()"
      ],
      "execution_count": 10,
      "outputs": [
        {
          "output_type": "stream",
          "text": [
            "Model: \"incremental_learning_1\"\n",
            "_________________________________________________________________\n",
            "Layer (type)                 Output Shape              Param #   \n",
            "=================================================================\n",
            "feature_extractor (FeatureEx multiple                  56320     \n",
            "_________________________________________________________________\n",
            "dense_6 (Dense)              multiple                  110       \n",
            "_________________________________________________________________\n",
            "sequential (Sequential)      multiple                  66360     \n",
            "=================================================================\n",
            "Total params: 122,680\n",
            "Trainable params: 110\n",
            "Non-trainable params: 122,570\n",
            "_________________________________________________________________\n"
          ],
          "name": "stdout"
        }
      ]
    },
    {
      "cell_type": "markdown",
      "metadata": {
        "id": "qD48VEWFG8Rt",
        "colab_type": "text"
      },
      "source": [
        "### Training Loop\n"
      ]
    },
    {
      "cell_type": "markdown",
      "metadata": {
        "id": "AR9nzM84HCbF",
        "colab_type": "text"
      },
      "source": [
        "#### Dataloader"
      ]
    },
    {
      "cell_type": "code",
      "metadata": {
        "id": "aPSpy-r7G_B5",
        "colab_type": "code",
        "colab": {
          "base_uri": "https://localhost:8080/",
          "height": 34
        },
        "outputId": "06369a49-81c1-42a3-9ee8-81dbd86b1327"
      },
      "source": [
        "old_labels = [0,1,2,3,4,5,6,7]\n",
        "new_labels = []\n",
        "allowed_labels = old_labels + new_labels\n",
        "train_images,train_labels,test_images,test_labels = custom_dataset_loader(dataset = dataset, \n",
        "                                                                          allowed_labels = allowed_labels)"
      ],
      "execution_count": 11,
      "outputs": [
        {
          "output_type": "stream",
          "text": [
            "Shape of training images after filtering labels (32000, 32, 32, 3)\n"
          ],
          "name": "stdout"
        }
      ]
    },
    {
      "cell_type": "markdown",
      "metadata": {
        "id": "CKWC5Ivcqfci",
        "colab_type": "text"
      },
      "source": [
        "#### Checkpoints and Callbacks"
      ]
    },
    {
      "cell_type": "code",
      "metadata": {
        "id": "qmVvgishs6m3",
        "colab_type": "code",
        "colab": {}
      },
      "source": [
        "import os\n",
        "checkpoint_path = \"training_1/cp.ckpt\"\n",
        "checkpoint_dir = os.path.dirname(checkpoint_path)"
      ],
      "execution_count": 0,
      "outputs": []
    },
    {
      "cell_type": "code",
      "metadata": {
        "id": "5Q5EfczwqhgY",
        "colab_type": "code",
        "colab": {}
      },
      "source": [
        "class CollectBatchStats(tf.keras.callbacks.Callback):\n",
        "  \"\"\"To visualize batch wise training progress\n",
        "  NOTE: Batch wise stats slow down the training progress as well\"\"\"\n",
        "  def __init__(self):\n",
        "    self.batch_losses = []\n",
        "    self.batch_acc = []\n",
        "\n",
        "  def on_train_batch_end(self, batch, logs=None):\n",
        "    self.batch_losses.append(logs['loss'])\n",
        "    self.batch_acc.append(logs['acc'])\n",
        "    self.model.reset_metrics()"
      ],
      "execution_count": 0,
      "outputs": []
    },
    {
      "cell_type": "markdown",
      "metadata": {
        "id": "U726EwG1pQgA",
        "colab_type": "text"
      },
      "source": [
        "#### Train using Mirror strategy"
      ]
    },
    {
      "cell_type": "code",
      "metadata": {
        "id": "U3qlrRR6pZVt",
        "colab_type": "code",
        "colab": {
          "base_uri": "https://localhost:8080/",
          "height": 756
        },
        "outputId": "20a91f99-ebe9-430c-cd5b-8f91daa29497"
      },
      "source": [
        "strategy = tf.distribute.MirroredStrategy()\n",
        "with strategy.scope():\n",
        "\n",
        "  feature_extractor = FeatureExtractor(trainable=True)\n",
        "  classifier = Classifier(n_classes=8)\n",
        "  model = IncrementalLearning(feature_extractor,classifier)\n",
        "  batch_stats_callback = CollectBatchStats()\n",
        "  # Compile model\n",
        "  model.compile(optimizer='adam',\n",
        "                loss=tf.keras.losses.SparseCategoricalCrossentropy(from_logits=True),\n",
        "                metrics=['acc'])\n",
        "\n",
        "  # Create a callback that saves the model's weights\n",
        "  cp_callback = tf.keras.callbacks.ModelCheckpoint(filepath=checkpoint_path,\n",
        "                                                  save_weights_only=True,\n",
        "                                                  verbose=1)\n",
        "  # Train the model\n",
        "  history = model.fit(train_images, train_labels, epochs=10, \n",
        "                      validation_data=(test_images, test_labels),callbacks=[cp_callback, batch_stats_callback])"
      ],
      "execution_count": 18,
      "outputs": [
        {
          "output_type": "stream",
          "text": [
            "WARNING:tensorflow:There are non-GPU devices in `tf.distribute.Strategy`, not using nccl allreduce.\n",
            "INFO:tensorflow:Using MirroredStrategy with devices ('/job:localhost/replica:0/task:0/device:CPU:0',)\n",
            "Epoch 1/10\n",
            " 999/1000 [============================>.] - ETA: 0s - acc: 0.4062 - loss: 1.7024\n",
            "Epoch 00001: saving model to training_1/cp.ckpt\n",
            "1000/1000 [==============================] - 46s 46ms/step - acc: 0.4375 - loss: 1.4516 - val_acc: 0.4951 - val_loss: 1.3771\n",
            "Epoch 2/10\n",
            "1000/1000 [==============================] - ETA: 0s - acc: 0.6562 - loss: 0.9815\n",
            "Epoch 00002: saving model to training_1/cp.ckpt\n",
            "1000/1000 [==============================] - 45s 45ms/step - acc: 0.6562 - loss: 0.9815 - val_acc: 0.5954 - val_loss: 1.1104\n",
            "Epoch 3/10\n",
            " 999/1000 [============================>.] - ETA: 0s - acc: 0.5625 - loss: 1.1506\n",
            "Epoch 00003: saving model to training_1/cp.ckpt\n",
            "1000/1000 [==============================] - 45s 45ms/step - acc: 0.7188 - loss: 0.8232 - val_acc: 0.6421 - val_loss: 1.0086\n",
            "Epoch 4/10\n",
            " 999/1000 [============================>.] - ETA: 0s - acc: 0.6562 - loss: 0.9672\n",
            "Epoch 00004: saving model to training_1/cp.ckpt\n",
            "1000/1000 [==============================] - 46s 46ms/step - acc: 0.5625 - loss: 1.1448 - val_acc: 0.6646 - val_loss: 0.9385\n",
            "Epoch 5/10\n",
            "1000/1000 [==============================] - ETA: 0s - acc: 0.7812 - loss: 0.6823\n",
            "Epoch 00005: saving model to training_1/cp.ckpt\n",
            "1000/1000 [==============================] - 45s 45ms/step - acc: 0.7812 - loss: 0.6823 - val_acc: 0.6768 - val_loss: 0.8937\n",
            "Epoch 6/10\n",
            "1000/1000 [==============================] - ETA: 0s - acc: 0.6875 - loss: 0.8209\n",
            "Epoch 00006: saving model to training_1/cp.ckpt\n",
            "1000/1000 [==============================] - 45s 45ms/step - acc: 0.6875 - loss: 0.8209 - val_acc: 0.6815 - val_loss: 0.8871\n",
            "Epoch 7/10\n",
            "1000/1000 [==============================] - ETA: 0s - acc: 0.7188 - loss: 1.1238\n",
            "Epoch 00007: saving model to training_1/cp.ckpt\n",
            "1000/1000 [==============================] - 45s 45ms/step - acc: 0.7188 - loss: 1.1238 - val_acc: 0.6864 - val_loss: 0.8936\n",
            "Epoch 8/10\n",
            "1000/1000 [==============================] - ETA: 0s - acc: 0.7188 - loss: 0.7518\n",
            "Epoch 00008: saving model to training_1/cp.ckpt\n",
            "1000/1000 [==============================] - 47s 47ms/step - acc: 0.7188 - loss: 0.7518 - val_acc: 0.6840 - val_loss: 0.9106\n",
            "Epoch 9/10\n",
            " 999/1000 [============================>.] - ETA: 0s - acc: 0.7500 - loss: 0.6157\n",
            "Epoch 00009: saving model to training_1/cp.ckpt\n",
            "1000/1000 [==============================] - 45s 45ms/step - acc: 0.7812 - loss: 0.5423 - val_acc: 0.6892 - val_loss: 0.8869\n",
            "Epoch 10/10\n",
            " 999/1000 [============================>.] - ETA: 0s - acc: 0.7812 - loss: 0.6579\n",
            "Epoch 00010: saving model to training_1/cp.ckpt\n",
            "1000/1000 [==============================] - 45s 45ms/step - acc: 0.8438 - loss: 0.5364 - val_acc: 0.6981 - val_loss: 0.8609\n"
          ],
          "name": "stdout"
        }
      ]
    },
    {
      "cell_type": "markdown",
      "metadata": {
        "id": "txzPRvGKv0ad",
        "colab_type": "text"
      },
      "source": [
        "### Evaluate"
      ]
    },
    {
      "cell_type": "code",
      "metadata": {
        "id": "90_aKQGmpeY0",
        "colab_type": "code",
        "colab": {
          "base_uri": "https://localhost:8080/",
          "height": 313
        },
        "outputId": "0ed980d6-8f31-46df-e467-38db21b11593"
      },
      "source": [
        "plt.plot(history.history['acc'], label='accuracy')\n",
        "plt.plot(history.history['val_acc'], label = 'val_accuracy')\n",
        "plt.xlabel('Epoch')\n",
        "plt.ylabel('Accuracy')\n",
        "# plt.ylim([0.5, 1])\n",
        "plt.legend()\n",
        "plt.title('Epochwise stats')\n",
        "test_loss, test_acc = model.evaluate(test_images,  test_labels, verbose=2)"
      ],
      "execution_count": 23,
      "outputs": [
        {
          "output_type": "stream",
          "text": [
            "250/250 - 3s - acc: 0.6981 - loss: 0.8609\n"
          ],
          "name": "stdout"
        },
        {
          "output_type": "display_data",
          "data": {
            "image/png": "[encoded data removed]",
            "text/plain": [
              "<Figure size 432x288 with 1 Axes>"
            ]
          },
          "metadata": {
            "tags": [],
            "needs_background": "light"
          }
        }
      ]
    },
    {
      "cell_type": "code",
      "metadata": {
        "id": "arZRLRW5v2TU",
        "colab_type": "code",
        "colab": {
          "base_uri": "https://localhost:8080/",
          "height": 313
        },
        "outputId": "6f5dd0bb-182b-41c2-dd3a-e529fae75425"
      },
      "source": [
        "plt.figure()\n",
        "plt.ylabel(\"Loss\")\n",
        "plt.xlabel(\"Training Steps\")\n",
        "plt.ylim([0,2])\n",
        "plt.title('Batchwise stats')\n",
        "plt.plot(batch_stats_callback.batch_losses)"
      ],
      "execution_count": 24,
      "outputs": [
        {
          "output_type": "execute_result",
          "data": {
            "text/plain": [
              "[<matplotlib.lines.Line2D at 0x7efbc9e52278>]"
            ]
          },
          "metadata": {
            "tags": []
          },
          "execution_count": 24
        },
        {
          "output_type": "display_data",
          "data": {
            "image/png": "[encoded data removed]",
            "text/plain": [
              "<Figure size 432x288 with 1 Axes>"
            ]
          },
          "metadata": {
            "tags": [],
            "needs_background": "light"
          }
        }
      ]
    },
    {
      "cell_type": "code",
      "metadata": {
        "id": "PIzqJvvzwc0A",
        "colab_type": "code",
        "colab": {
          "base_uri": "https://localhost:8080/",
          "height": 301
        },
        "outputId": "69bba2f7-cfe8-447d-d173-b25824865a3c"
      },
      "source": [
        "plt.figure()\n",
        "plt.ylabel(\"Accuracy\")\n",
        "plt.xlabel(\"Training Steps\")\n",
        "plt.ylim([0,1])\n",
        "plt.plot(batch_stats_callback.batch_acc)"
      ],
      "execution_count": 25,
      "outputs": [
        {
          "output_type": "execute_result",
          "data": {
            "text/plain": [
              "[<matplotlib.lines.Line2D at 0x7efbc9de20f0>]"
            ]
          },
          "metadata": {
            "tags": []
          },
          "execution_count": 25
        },
        {
          "output_type": "display_data",
          "data": {
            "image/png": "[encoded data removed]",
            "text/plain": [
              "<Figure size 432x288 with 1 Axes>"
            ]
          },
          "metadata": {
            "tags": [],
            "needs_background": "light"
          }
        }
      ]
    },
    {
      "cell_type": "code",
      "metadata": {
        "id": "0NpvqZ5XwiPJ",
        "colab_type": "code",
        "colab": {}
      },
      "source": [
        ""
      ],
      "execution_count": 0,
      "outputs": []
    }
  ]
}